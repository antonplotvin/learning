{
 "cells": [
  {
   "cell_type": "code",
   "execution_count": 44,
   "metadata": {},
   "outputs": [
    {
     "name": "stdout",
     "output_type": "stream",
     "text": [
      "amor hasta la muerte!\n",
      "[('Alejandro', 'Caridad'), ('Castro', 'Díaz-Balart'), ('Fidel', 'Francisca'), ('Ruz', 'Mirta')]\n"
     ]
    }
   ],
   "source": [
    "muchachos = ['Fidel', 'Alejandro', 'Castro', 'Ruz']\n",
    "chicas = ['Mirta', 'Francisca', 'Caridad', 'Díaz-Balart', 'Gutiérrez']\n",
    "muchachos.sort()\n",
    "chicas.sort()\n",
    "if len(muchachos) == len(chicas):\n",
    "    amor = zip(muchachos, chicas)\n",
    "    print('amor hasta la muerte!')\n",
    "    print(list(amor))\n",
    "else:\n",
    "    print('no woman no cry')"
   ]
  }
 ],
 "metadata": {
  "kernelspec": {
   "display_name": "Python 3",
   "language": "python",
   "name": "python3"
  },
  "language_info": {
   "codemirror_mode": {
    "name": "ipython",
    "version": 3
   },
   "file_extension": ".py",
   "mimetype": "text/x-python",
   "name": "python",
   "nbconvert_exporter": "python",
   "pygments_lexer": "ipython3",
   "version": "3.8.5"
  }
 },
 "nbformat": 4,
 "nbformat_minor": 4
}
