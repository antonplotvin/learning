{
 "cells": [
  {
   "cell_type": "code",
   "execution_count": 20,
   "metadata": {},
   "outputs": [
    {
     "name": "stdout",
     "output_type": "stream",
     "text": [
      "Введите день: 1\n",
      "Введите месяц: январь\n",
      "Ваш знак зодиака: Казерог\n"
     ]
    }
   ],
   "source": [
    "day = int(input('Введите день: '))\n",
    "if day >= 1 and day <= 31:\n",
    "    month = str(input('Введите месяц: '))\n",
    "if month == 'декабрь' or month == 'январь' or month == 'февраль' or month == 'март' or month == 'апрель' or month == 'май' or month == 'июнь' or month == 'июль' or month == 'август' or month == 'сентябрь' or month == 'октябрь' or month == 'ноябрь':\n",
    "\n",
    "#Козерог\n",
    "    if day >= 22 and month == 'декабрь':\n",
    "        print('Ваш знак зодиака: Казерог')\n",
    "    elif day >= 1 and day <= 20 and month == 'январь':\n",
    "        print('Ваш знак зодиака: Казерог')\n",
    "\n",
    "#Водолей\n",
    "    if day >= 21 and day <= 31 and month == 'январь':\n",
    "        print('Ваш знак зодиака: Водолей')\n",
    "    elif day >= 1 and day <= 19 and month == 'февраль':\n",
    "        print('Ваш знак зодиака: Водолей')\n",
    "\n",
    "#Рыбы\n",
    "    if day >= 20 and day <= 29 and month == 'февраль':\n",
    "        print('Ваш знак зодиака: Рыбы')\n",
    "    elif day >= 1 and day <= 20 and month == 'март':\n",
    "        print('Ваш знак зодиака: Рыбы')\n",
    "\n",
    "#Овен\n",
    "    if day >= 21 and day <= 31 and month == 'март':\n",
    "        print('Ваш знак зодиака: Овен')\n",
    "    elif day >= 1 and day <= 20 and month == 'апрель':\n",
    "        print('Ваш знак зодиака: Овен')\n",
    "\n",
    "#Телец\n",
    "    if day >= 21 and day <= 30 and month == 'апрель':\n",
    "        print('Ваш знак зодиака: Телец')\n",
    "    elif day >= 1 and day <= 21 and month == 'май':\n",
    "        print('Ваш знак зодиака: Телец')\n",
    "\n",
    "#Близнецы\n",
    "    if day >= 22 and day <= 31 and month == 'май':\n",
    "        print('Ваш знак зодиака: Близнецы')\n",
    "    elif day >= 1 and day <= 21 and month == 'июнь':\n",
    "        print('Ваш знак зодиака: Близнецы')\n",
    "\n",
    "#Рак\n",
    "    if day >= 22 and day <= 30 and month == 'июнь':\n",
    "        print('Ваш знак зодиака: Рак')\n",
    "    elif day >= 1 and day <= 23 and month == 'июль':\n",
    "        print('Ваш знак зодиака: Рак')\n",
    "\n",
    "#Лев\n",
    "    if day >= 24 and day <= 31 and month == 'июль':\n",
    "        print('Ваш знак зодиака: Лев')\n",
    "    elif day >= 1 and day <= 23 and month == 'август':\n",
    "        print('Ваш знак зодиака: Лев')\n",
    "\n",
    "#Дева\n",
    "    if day >= 24 and day <= 31 and month == 'август':\n",
    "        print('Ваш знак зодиака: Дева')\n",
    "    elif day >= 1 and day <= 23 and month == 'сентябрь':\n",
    "        print('Ваш знак зодиака: Дева')\n",
    "\n",
    "#Весы\n",
    "    if day >= 24 and day <= 30 and month == 'сентябрь':\n",
    "        print('Ваш знак зодиака: Весы')\n",
    "    elif day >= 1 and day <= 23 and month == 'октябрь':\n",
    "        print('Ваш знак зодиака: Весы')\n",
    "\n",
    "#Скорпион\n",
    "    if day >= 24 and day <= 31 and month == 'октябрь':\n",
    "        print('Ваш знак зодиака: Скорпион')\n",
    "    elif day >= 1 and day <= 22 and month == 'ноябрь':\n",
    "        print('Ваш знак зодиака: Скорпион')\n",
    "\n",
    "#Стрелец\n",
    "    if day >= 23 and day <= 30 and month == 'ноябрь':\n",
    "        print('Ваш знак зодиака: Стрелец')\n",
    "    elif day >= 1 and day <= 21 and month == 'декабрь':\n",
    "        print('Ваш знак зодиака: Стрелец')"
   ]
  }
 ],
 "metadata": {
  "kernelspec": {
   "display_name": "Python 3",
   "language": "python",
   "name": "python3"
  },
  "language_info": {
   "codemirror_mode": {
    "name": "ipython",
    "version": 3
   },
   "file_extension": ".py",
   "mimetype": "text/x-python",
   "name": "python",
   "nbconvert_exporter": "python",
   "pygments_lexer": "ipython3",
   "version": "3.8.5"
  }
 },
 "nbformat": 4,
 "nbformat_minor": 4
}
