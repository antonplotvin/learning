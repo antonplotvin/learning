{
 "cells": [
  {
   "cell_type": "code",
   "execution_count": null,
   "metadata": {},
   "outputs": [],
   "source": [
    "input_word = str(input('Введите слово: '))\n",
    "mid_even = len(input_word) // 2\n",
    "mid_even_1 = len(input_word) // 2 - 1\n",
    "mid_uneven = len(input_word) // 2\n",
    "if len(input_word) % 2 == 0:\n",
    "    print(input_word[mid_even_1] + input_word[mid_even])\n",
    "else:\n",
    "    print(input_word[mid_uneven])"
   ]
  }
 ],
 "metadata": {
  "kernelspec": {
   "display_name": "Python 3",
   "language": "python",
   "name": "python3"
  },
  "language_info": {
   "codemirror_mode": {
    "name": "ipython",
    "version": 3
   },
   "file_extension": ".py",
   "mimetype": "text/x-python",
   "name": "python",
   "nbconvert_exporter": "python",
   "pygments_lexer": "ipython3",
   "version": "3.8.5"
  }
 },
 "nbformat": 4,
 "nbformat_minor": 4
}
